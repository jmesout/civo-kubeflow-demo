{
 "cells": [
  {
   "cell_type": "markdown",
   "metadata": {},
   "source": [
    "# 1. KfaaS Setup\n",
    "<img src=\"https://www.civo.com/assets/public/machine-learning/gradient-divider-13b90e98503fdac947c77d8cdb6bf55f3af7186422ff7e4bea759e34eb5767c5.svg\" style=\"width:100%; padding-top:0px margin-top:0px; padding-bottom:0px margin-bottom:0px;\"/>"
   ]
  },
  {
   "cell_type": "markdown",
   "metadata": {},
   "source": [
    "<div>\n",
    "\n",
    "</div>\n",
    "\n",
    "<div style=\"display: flex; overflow-x: auto; gap: 10px; white-space: nowrap; max-height:800px; overflow:scroll;\">\n",
    "    <!-- Item 1 -->\n",
    "    <div style=\"flex: none; display: flex; flex-direction: column; align-items: center; gap: 10px;\">\n",
    "        <a href=\"#\" \n",
    "           style=\"text-decoration: none; color: #007bff; font-size: 18px; text-align: center;\">\n",
    "           Login to Civo.com\n",
    "        </a>\n",
    "        <img src=\"images/2023-08-23_14-16.png\" alt=\"Image Description\" \n",
    "             style=\"max-width: 800px; border-radius: 8px; box-shadow: 2px 2px 12px rgba(0,0,0,0.1);\">\n",
    "             <h3> Scroll Right for Step by Step Guidance: --> </h3>\n",
    "    </div>\n",
    "    <!-- Item 2 -->\n",
    "    <div style=\"flex: none; display: flex; flex-direction: column; align-items: center; gap: 10px;\">\n",
    "        <a href=\"#\" \n",
    "           style=\"text-decoration: none; color: #007bff; font-size: 18px; text-align: center;\">\n",
    "           Select your KfaaS Cluster\n",
    "        </a>\n",
    "        <img src=\"images/2023-08-23_14-17.png\" alt=\"Image Description\" \n",
    "             style=\"max-width: 800px; border-radius: 8px; box-shadow: 2px 2px 12px rgba(0,0,0,0.1);\">\n",
    "            <h3> Scroll Right for Step by Step Guidance: --> </h3>\n",
    "    </div>\n",
    "    <!-- Item 3 -->\n",
    "    <div style=\"flex: none; display: flex; flex-direction: column; align-items: center; gap: 10px;\">\n",
    "        <a href=\"#\" \n",
    "            style=\"text-decoration: none; color: #007bff; font-size: 18px; text-align: center;\">\n",
    "            Launch a Notebook\n",
    "        </a>\n",
    "        <img src=\"images/2023-08-23_14-19.png\" alt=\"Image Description\" \n",
    "                style=\"max-width: 800px; border-radius: 8px; box-shadow: 2px 2px 12px rgba(0,0,0,0.1);\">\n",
    "                <h3> Scroll Right for Step by Step Guidance: --> </h3>\n",
    "    </div>\n",
    "    <!-- Item 4 -->\n",
    "    <div style=\"flex: none; display: flex; flex-direction: column; align-items: center; gap: 10px;\">\n",
    "        <a href=\"#\" \n",
    "            style=\"text-decoration: none; color: #007bff; font-size: 18px; text-align: center;\">\n",
    "            Launch a Notebook\n",
    "        </a>\n",
    "        <img src=\"images/2023-08-23_14-22.png\" alt=\"Image Description\" \n",
    "                style=\"max-width: 800px; border-radius: 8px; box-shadow: 2px 2px 12px rgba(0,0,0,0.1);\">\n",
    "    </div>\n",
    "    \n",
    "</div>\n"
   ]
  }
 ],
 "metadata": {
  "kernelspec": {
   "display_name": "Python 3",
   "language": "python",
   "name": "python3"
  },
  "language_info": {
   "codemirror_mode": {
    "name": "ipython",
    "version": 3
   },
   "file_extension": ".py",
   "mimetype": "text/x-python",
   "name": "python",
   "nbconvert_exporter": "python",
   "pygments_lexer": "ipython3",
   "version": "3.9.6"
  },
  "orig_nbformat": 4
 },
 "nbformat": 4,
 "nbformat_minor": 2
}
